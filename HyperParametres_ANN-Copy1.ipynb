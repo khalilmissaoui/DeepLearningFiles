{
 "cells": [
  {
   "cell_type": "code",
   "execution_count": 69,
   "metadata": {},
   "outputs": [],
   "source": [
    "#importation de bibliotheque\n",
    "import numpy as np \n",
    "import pandas as pd \n",
    "from sklearn.model_selection import GridSearchCV \n",
    "from tensorflow.keras.models import Sequential \n",
    "from tensorflow.keras.layers import Dense \n",
    "import warnings \n",
    "warnings.filterwarnings('ignore')\n",
    "from tensorflow.keras.wrappers.scikit_learn import KerasClassifier"
   ]
  },
  {
   "cell_type": "code",
   "execution_count": 70,
   "metadata": {},
   "outputs": [],
   "source": [
    "data = pd.read_csv('diabetes.csv')"
   ]
  },
  {
   "cell_type": "code",
   "execution_count": 71,
   "metadata": {},
   "outputs": [
    {
     "data": {
      "text/html": [
       "<div>\n",
       "<style scoped>\n",
       "    .dataframe tbody tr th:only-of-type {\n",
       "        vertical-align: middle;\n",
       "    }\n",
       "\n",
       "    .dataframe tbody tr th {\n",
       "        vertical-align: top;\n",
       "    }\n",
       "\n",
       "    .dataframe thead th {\n",
       "        text-align: right;\n",
       "    }\n",
       "</style>\n",
       "<table border=\"1\" class=\"dataframe\">\n",
       "  <thead>\n",
       "    <tr style=\"text-align: right;\">\n",
       "      <th></th>\n",
       "      <th>Pregnancies</th>\n",
       "      <th>Glucose</th>\n",
       "      <th>BloodPressure</th>\n",
       "      <th>SkinThickness</th>\n",
       "      <th>Insulin</th>\n",
       "      <th>BMI</th>\n",
       "      <th>DiabetesPedigreeFunction</th>\n",
       "      <th>Age</th>\n",
       "      <th>Outcome</th>\n",
       "    </tr>\n",
       "  </thead>\n",
       "  <tbody>\n",
       "    <tr>\n",
       "      <th>0</th>\n",
       "      <td>6</td>\n",
       "      <td>148</td>\n",
       "      <td>72</td>\n",
       "      <td>35</td>\n",
       "      <td>0</td>\n",
       "      <td>33.6</td>\n",
       "      <td>0.627</td>\n",
       "      <td>50</td>\n",
       "      <td>1</td>\n",
       "    </tr>\n",
       "    <tr>\n",
       "      <th>1</th>\n",
       "      <td>1</td>\n",
       "      <td>85</td>\n",
       "      <td>66</td>\n",
       "      <td>29</td>\n",
       "      <td>0</td>\n",
       "      <td>26.6</td>\n",
       "      <td>0.351</td>\n",
       "      <td>31</td>\n",
       "      <td>0</td>\n",
       "    </tr>\n",
       "    <tr>\n",
       "      <th>2</th>\n",
       "      <td>8</td>\n",
       "      <td>183</td>\n",
       "      <td>64</td>\n",
       "      <td>0</td>\n",
       "      <td>0</td>\n",
       "      <td>23.3</td>\n",
       "      <td>0.672</td>\n",
       "      <td>32</td>\n",
       "      <td>1</td>\n",
       "    </tr>\n",
       "    <tr>\n",
       "      <th>3</th>\n",
       "      <td>1</td>\n",
       "      <td>89</td>\n",
       "      <td>66</td>\n",
       "      <td>23</td>\n",
       "      <td>94</td>\n",
       "      <td>28.1</td>\n",
       "      <td>0.167</td>\n",
       "      <td>21</td>\n",
       "      <td>0</td>\n",
       "    </tr>\n",
       "    <tr>\n",
       "      <th>4</th>\n",
       "      <td>0</td>\n",
       "      <td>137</td>\n",
       "      <td>40</td>\n",
       "      <td>35</td>\n",
       "      <td>168</td>\n",
       "      <td>43.1</td>\n",
       "      <td>2.288</td>\n",
       "      <td>33</td>\n",
       "      <td>1</td>\n",
       "    </tr>\n",
       "  </tbody>\n",
       "</table>\n",
       "</div>"
      ],
      "text/plain": [
       "   Pregnancies  Glucose  BloodPressure  ...  DiabetesPedigreeFunction  Age  Outcome\n",
       "0            6      148             72  ...                     0.627   50        1\n",
       "1            1       85             66  ...                     0.351   31        0\n",
       "2            8      183             64  ...                     0.672   32        1\n",
       "3            1       89             66  ...                     0.167   21        0\n",
       "4            0      137             40  ...                     2.288   33        1\n",
       "\n",
       "[5 rows x 9 columns]"
      ]
     },
     "execution_count": 71,
     "metadata": {},
     "output_type": "execute_result"
    }
   ],
   "source": [
    "data.head() \n"
   ]
  },
  {
   "cell_type": "code",
   "execution_count": 72,
   "metadata": {},
   "outputs": [
    {
     "data": {
      "text/plain": [
       "(768, 9)"
      ]
     },
     "execution_count": 72,
     "metadata": {},
     "output_type": "execute_result"
    }
   ],
   "source": [
    "data.shape "
   ]
  },
  {
   "cell_type": "code",
   "execution_count": 73,
   "metadata": {},
   "outputs": [
    {
     "data": {
      "text/html": [
       "<div>\n",
       "<style scoped>\n",
       "    .dataframe tbody tr th:only-of-type {\n",
       "        vertical-align: middle;\n",
       "    }\n",
       "\n",
       "    .dataframe tbody tr th {\n",
       "        vertical-align: top;\n",
       "    }\n",
       "\n",
       "    .dataframe thead th {\n",
       "        text-align: right;\n",
       "    }\n",
       "</style>\n",
       "<table border=\"1\" class=\"dataframe\">\n",
       "  <thead>\n",
       "    <tr style=\"text-align: right;\">\n",
       "      <th></th>\n",
       "      <th>Pregnancies</th>\n",
       "      <th>Glucose</th>\n",
       "      <th>BloodPressure</th>\n",
       "      <th>SkinThickness</th>\n",
       "      <th>Insulin</th>\n",
       "      <th>BMI</th>\n",
       "      <th>DiabetesPedigreeFunction</th>\n",
       "      <th>Age</th>\n",
       "      <th>Outcome</th>\n",
       "    </tr>\n",
       "  </thead>\n",
       "  <tbody>\n",
       "    <tr>\n",
       "      <th>count</th>\n",
       "      <td>768.000000</td>\n",
       "      <td>768.000000</td>\n",
       "      <td>768.000000</td>\n",
       "      <td>768.000000</td>\n",
       "      <td>768.000000</td>\n",
       "      <td>768.000000</td>\n",
       "      <td>768.000000</td>\n",
       "      <td>768.000000</td>\n",
       "      <td>768.000000</td>\n",
       "    </tr>\n",
       "    <tr>\n",
       "      <th>mean</th>\n",
       "      <td>3.845052</td>\n",
       "      <td>120.894531</td>\n",
       "      <td>69.105469</td>\n",
       "      <td>20.536458</td>\n",
       "      <td>79.799479</td>\n",
       "      <td>31.992578</td>\n",
       "      <td>0.471876</td>\n",
       "      <td>33.240885</td>\n",
       "      <td>0.348958</td>\n",
       "    </tr>\n",
       "    <tr>\n",
       "      <th>std</th>\n",
       "      <td>3.369578</td>\n",
       "      <td>31.972618</td>\n",
       "      <td>19.355807</td>\n",
       "      <td>15.952218</td>\n",
       "      <td>115.244002</td>\n",
       "      <td>7.884160</td>\n",
       "      <td>0.331329</td>\n",
       "      <td>11.760232</td>\n",
       "      <td>0.476951</td>\n",
       "    </tr>\n",
       "    <tr>\n",
       "      <th>min</th>\n",
       "      <td>0.000000</td>\n",
       "      <td>0.000000</td>\n",
       "      <td>0.000000</td>\n",
       "      <td>0.000000</td>\n",
       "      <td>0.000000</td>\n",
       "      <td>0.000000</td>\n",
       "      <td>0.078000</td>\n",
       "      <td>21.000000</td>\n",
       "      <td>0.000000</td>\n",
       "    </tr>\n",
       "    <tr>\n",
       "      <th>25%</th>\n",
       "      <td>1.000000</td>\n",
       "      <td>99.000000</td>\n",
       "      <td>62.000000</td>\n",
       "      <td>0.000000</td>\n",
       "      <td>0.000000</td>\n",
       "      <td>27.300000</td>\n",
       "      <td>0.243750</td>\n",
       "      <td>24.000000</td>\n",
       "      <td>0.000000</td>\n",
       "    </tr>\n",
       "    <tr>\n",
       "      <th>50%</th>\n",
       "      <td>3.000000</td>\n",
       "      <td>117.000000</td>\n",
       "      <td>72.000000</td>\n",
       "      <td>23.000000</td>\n",
       "      <td>30.500000</td>\n",
       "      <td>32.000000</td>\n",
       "      <td>0.372500</td>\n",
       "      <td>29.000000</td>\n",
       "      <td>0.000000</td>\n",
       "    </tr>\n",
       "    <tr>\n",
       "      <th>75%</th>\n",
       "      <td>6.000000</td>\n",
       "      <td>140.250000</td>\n",
       "      <td>80.000000</td>\n",
       "      <td>32.000000</td>\n",
       "      <td>127.250000</td>\n",
       "      <td>36.600000</td>\n",
       "      <td>0.626250</td>\n",
       "      <td>41.000000</td>\n",
       "      <td>1.000000</td>\n",
       "    </tr>\n",
       "    <tr>\n",
       "      <th>max</th>\n",
       "      <td>17.000000</td>\n",
       "      <td>199.000000</td>\n",
       "      <td>122.000000</td>\n",
       "      <td>99.000000</td>\n",
       "      <td>846.000000</td>\n",
       "      <td>67.100000</td>\n",
       "      <td>2.420000</td>\n",
       "      <td>81.000000</td>\n",
       "      <td>1.000000</td>\n",
       "    </tr>\n",
       "  </tbody>\n",
       "</table>\n",
       "</div>"
      ],
      "text/plain": [
       "       Pregnancies     Glucose  ...         Age     Outcome\n",
       "count   768.000000  768.000000  ...  768.000000  768.000000\n",
       "mean      3.845052  120.894531  ...   33.240885    0.348958\n",
       "std       3.369578   31.972618  ...   11.760232    0.476951\n",
       "min       0.000000    0.000000  ...   21.000000    0.000000\n",
       "25%       1.000000   99.000000  ...   24.000000    0.000000\n",
       "50%       3.000000  117.000000  ...   29.000000    0.000000\n",
       "75%       6.000000  140.250000  ...   41.000000    1.000000\n",
       "max      17.000000  199.000000  ...   81.000000    1.000000\n",
       "\n",
       "[8 rows x 9 columns]"
      ]
     },
     "execution_count": 73,
     "metadata": {},
     "output_type": "execute_result"
    }
   ],
   "source": [
    "data.describe()"
   ]
  },
  {
   "cell_type": "code",
   "execution_count": 74,
   "metadata": {},
   "outputs": [],
   "source": [
    "X = data.iloc[:,0:8]\n",
    "Y = data.iloc[:,8]"
   ]
  },
  {
   "cell_type": "code",
   "execution_count": 75,
   "metadata": {},
   "outputs": [],
   "source": [
    "#building our model ; our architecture\n",
    "def mon_model(optimizer='adam'):\n",
    "    model = Sequential()\n",
    "    model.add(Dense(12 , input_dim=8 , activation = 'relu'))\n",
    "    model.add(Dense( 1 , activation = 'sigmoid')) # whats the diffrence between sigmoid and max\n",
    "    #apparament il ya deux methode : - ya sortie 2  w f kol wahda probabilty (hedhy bl max) \n",
    "                                    #IIII ya sortie bark 0 OU 1 (hedhy b sig) \n",
    "    model.compile(loss='binary_crossentropy' , optimizer = 'adam', metrics=['accuracy']) #classification binaire\n",
    "    return model"
   ]
  },
  {
   "cell_type": "code",
   "execution_count": 76,
   "metadata": {},
   "outputs": [],
   "source": [
    "modele = KerasClassifier(build_fn=mon_model)#generate our modele"
   ]
  },
  {
   "cell_type": "code",
   "execution_count": 77,
   "metadata": {},
   "outputs": [],
   "source": [
    "epochs = [10 , 30 , 50 ] \n",
    "batchSize = [10 , 20 , 40 ,60 ,80 ,100]    "
   ]
  },
  {
   "cell_type": "code",
   "execution_count": 78,
   "metadata": {},
   "outputs": [],
   "source": [
    "\n",
    "param_grid = { 'epochs' : epochs , \n",
    "            'batch_size' : batchSize}"
   ]
  },
  {
   "cell_type": "code",
   "execution_count": 79,
   "metadata": {},
   "outputs": [],
   "source": [
    "grid = GridSearchCV(modele , param_grid=param_grid,n_jobs=-1 , cv=3)"
   ]
  },
  {
   "cell_type": "code",
   "execution_count": 80,
   "metadata": {},
   "outputs": [
    {
     "name": "stdout",
     "output_type": "stream",
     "text": [
      "Epoch 1/50\n",
      "77/77 [==============================] - 0s 578us/step - loss: 5.1508 - accuracy: 0.6064\n",
      "Epoch 2/50\n",
      "77/77 [==============================] - 0s 592us/step - loss: 3.0321 - accuracy: 0.5773\n",
      "Epoch 3/50\n",
      "77/77 [==============================] - 0s 526us/step - loss: 2.0349 - accuracy: 0.6341\n",
      "Epoch 4/50\n",
      "77/77 [==============================] - 0s 474us/step - loss: 1.6701 - accuracy: 0.6087\n",
      "Epoch 5/50\n",
      "77/77 [==============================] - 0s 461us/step - loss: 1.3497 - accuracy: 0.6607\n",
      "Epoch 6/50\n",
      "77/77 [==============================] - 0s 447us/step - loss: 1.1968 - accuracy: 0.6526\n",
      "Epoch 7/50\n",
      "77/77 [==============================] - 0s 447us/step - loss: 1.0948 - accuracy: 0.6333\n",
      "Epoch 8/50\n",
      "77/77 [==============================] - 0s 583us/step - loss: 1.0285 - accuracy: 0.6252\n",
      "Epoch 9/50\n",
      "77/77 [==============================] - 0s 474us/step - loss: 0.9680 - accuracy: 0.6294\n",
      "Epoch 10/50\n",
      "77/77 [==============================] - 0s 474us/step - loss: 0.9946 - accuracy: 0.6362\n",
      "Epoch 11/50\n",
      "77/77 [==============================] - 0s 473us/step - loss: 0.9068 - accuracy: 0.6309\n",
      "Epoch 12/50\n",
      "77/77 [==============================] - 0s 513us/step - loss: 0.9219 - accuracy: 0.6086\n",
      "Epoch 13/50\n",
      "77/77 [==============================] - 0s 461us/step - loss: 0.7713 - accuracy: 0.6589\n",
      "Epoch 14/50\n",
      "77/77 [==============================] - 0s 461us/step - loss: 0.9066 - accuracy: 0.6359\n",
      "Epoch 15/50\n",
      "77/77 [==============================] - 0s 461us/step - loss: 0.7378 - accuracy: 0.6944\n",
      "Epoch 16/50\n",
      "77/77 [==============================] - 0s 461us/step - loss: 0.8205 - accuracy: 0.6434\n",
      "Epoch 17/50\n",
      "77/77 [==============================] - 0s 461us/step - loss: 0.8054 - accuracy: 0.6343\n",
      "Epoch 18/50\n",
      "77/77 [==============================] - 0s 461us/step - loss: 0.7343 - accuracy: 0.6946\n",
      "Epoch 19/50\n",
      "77/77 [==============================] - 0s 447us/step - loss: 0.8178 - accuracy: 0.6654\n",
      "Epoch 20/50\n",
      "77/77 [==============================] - 0s 461us/step - loss: 0.7119 - accuracy: 0.7074\n",
      "Epoch 21/50\n",
      "77/77 [==============================] - 0s 460us/step - loss: 0.7371 - accuracy: 0.6535\n",
      "Epoch 22/50\n",
      "77/77 [==============================] - 0s 461us/step - loss: 0.7619 - accuracy: 0.6267\n",
      "Epoch 23/50\n",
      "77/77 [==============================] - 0s 461us/step - loss: 0.7078 - accuracy: 0.6921\n",
      "Epoch 24/50\n",
      "77/77 [==============================] - 0s 461us/step - loss: 0.7456 - accuracy: 0.6787\n",
      "Epoch 25/50\n",
      "77/77 [==============================] - 0s 474us/step - loss: 0.6796 - accuracy: 0.6749\n",
      "Epoch 26/50\n",
      "77/77 [==============================] - 0s 474us/step - loss: 0.7442 - accuracy: 0.6520\n",
      "Epoch 27/50\n",
      "77/77 [==============================] - 0s 461us/step - loss: 0.6908 - accuracy: 0.6781\n",
      "Epoch 28/50\n",
      "77/77 [==============================] - 0s 461us/step - loss: 0.6721 - accuracy: 0.7103\n",
      "Epoch 29/50\n",
      "77/77 [==============================] - 0s 447us/step - loss: 0.6273 - accuracy: 0.7049\n",
      "Epoch 30/50\n",
      "77/77 [==============================] - 0s 447us/step - loss: 0.6907 - accuracy: 0.6940\n",
      "Epoch 31/50\n",
      "77/77 [==============================] - 0s 724us/step - loss: 0.6693 - accuracy: 0.6759\n",
      "Epoch 32/50\n",
      "77/77 [==============================] - 0s 737us/step - loss: 0.7036 - accuracy: 0.6869\n",
      "Epoch 33/50\n",
      "77/77 [==============================] - 0s 566us/step - loss: 0.6452 - accuracy: 0.6942\n",
      "Epoch 34/50\n",
      "77/77 [==============================] - 0s 461us/step - loss: 0.6932 - accuracy: 0.6696\n",
      "Epoch 35/50\n",
      "77/77 [==============================] - 0s 461us/step - loss: 0.6575 - accuracy: 0.6904\n",
      "Epoch 36/50\n",
      "77/77 [==============================] - 0s 474us/step - loss: 0.6677 - accuracy: 0.6592\n",
      "Epoch 37/50\n",
      "77/77 [==============================] - 0s 447us/step - loss: 0.6800 - accuracy: 0.6824\n",
      "Epoch 38/50\n",
      "77/77 [==============================] - 0s 474us/step - loss: 0.7297 - accuracy: 0.6645\n",
      "Epoch 39/50\n",
      "77/77 [==============================] - 0s 461us/step - loss: 0.6444 - accuracy: 0.6918\n",
      "Epoch 40/50\n",
      "77/77 [==============================] - 0s 461us/step - loss: 0.6479 - accuracy: 0.6926\n",
      "Epoch 41/50\n",
      "77/77 [==============================] - 0s 460us/step - loss: 0.6417 - accuracy: 0.6983\n",
      "Epoch 42/50\n",
      "77/77 [==============================] - 0s 474us/step - loss: 0.6956 - accuracy: 0.6737\n",
      "Epoch 43/50\n",
      "77/77 [==============================] - 0s 461us/step - loss: 0.6348 - accuracy: 0.6880\n",
      "Epoch 44/50\n",
      "77/77 [==============================] - 0s 487us/step - loss: 0.7352 - accuracy: 0.6843\n",
      "Epoch 45/50\n",
      "77/77 [==============================] - 0s 460us/step - loss: 0.6397 - accuracy: 0.6849\n",
      "Epoch 46/50\n",
      "77/77 [==============================] - 0s 474us/step - loss: 0.6231 - accuracy: 0.7074\n",
      "Epoch 47/50\n",
      "77/77 [==============================] - 0s 500us/step - loss: 0.6709 - accuracy: 0.6770\n",
      "Epoch 48/50\n",
      "77/77 [==============================] - 0s 526us/step - loss: 0.5723 - accuracy: 0.7221\n",
      "Epoch 49/50\n",
      "77/77 [==============================] - 0s 526us/step - loss: 0.6382 - accuracy: 0.6769\n",
      "Epoch 50/50\n",
      "77/77 [==============================] - 0s 526us/step - loss: 0.6285 - accuracy: 0.6990\n"
     ]
    },
    {
     "data": {
      "text/plain": [
       "GridSearchCV(cv=3,\n",
       "             estimator=<tensorflow.python.keras.wrappers.scikit_learn.KerasClassifier object at 0x000001EC48B72F10>,\n",
       "             n_jobs=-1,\n",
       "             param_grid={'batch_size': [10, 20, 40, 60, 80, 100],\n",
       "                         'epochs': [10, 30, 50]})"
      ]
     },
     "execution_count": 80,
     "metadata": {},
     "output_type": "execute_result"
    }
   ],
   "source": [
    "grid.fit(X,Y) "
   ]
  },
  {
   "cell_type": "code",
   "execution_count": 81,
   "metadata": {},
   "outputs": [
    {
     "data": {
      "text/plain": [
       "{'batch_size': 10, 'epochs': 50}"
      ]
     },
     "execution_count": 81,
     "metadata": {},
     "output_type": "execute_result"
    }
   ],
   "source": [
    "\n",
    "grid.best_params_"
   ]
  },
  {
   "cell_type": "markdown",
   "metadata": {},
   "source": [
    "#reglage de loss function : optimizer II      FIND BEST OPTIMIZER"
   ]
  },
  {
   "cell_type": "code",
   "execution_count": 83,
   "metadata": {},
   "outputs": [],
   "source": [
    "\n",
    "def mon_model(optimizer='adam'):\n",
    "    model = Sequential()\n",
    "    model.add(Dense(12 , input_dim=8 , activation = 'relu'))\n",
    "    model.add(Dense( 1 , activation = 'sigmoid'))\n",
    "    model.compile(loss='binary_crossentropy' , optimizer = optimizer, metrics=['accuracy']) \n",
    "    return model"
   ]
  },
  {
   "cell_type": "code",
   "execution_count": 90,
   "metadata": {},
   "outputs": [],
   "source": [
    "modele = KerasClassifier(build_fn=mon_model,epochs = 50 , batch_size=10)"
   ]
  },
  {
   "cell_type": "code",
   "execution_count": 91,
   "metadata": {},
   "outputs": [],
   "source": [
    "optimizer = ['SGD' , 'adam' , 'Adadelta' , 'Adagrad']\n",
    "param_grid = {\n",
    "    'optimizer' : optimizer \n",
    "}"
   ]
  },
  {
   "cell_type": "code",
   "execution_count": 92,
   "metadata": {},
   "outputs": [],
   "source": [
    "grid = GridSearchCV(modele , param_grid=param_grid,n_jobs=-1 , cv=3) "
   ]
  },
  {
   "cell_type": "code",
   "execution_count": 93,
   "metadata": {},
   "outputs": [
    {
     "name": "stdout",
     "output_type": "stream",
     "text": [
      "Epoch 1/50\n",
      "77/77 [==============================] - 0s 487us/step - loss: 28.8626 - accuracy: 0.6613\n",
      "Epoch 2/50\n",
      "77/77 [==============================] - 0s 500us/step - loss: 5.4421 - accuracy: 0.5288\n",
      "Epoch 3/50\n",
      "77/77 [==============================] - 0s 461us/step - loss: 3.1996 - accuracy: 0.6058\n",
      "Epoch 4/50\n",
      "77/77 [==============================] - 0s 487us/step - loss: 3.1072 - accuracy: 0.5723\n",
      "Epoch 5/50\n",
      "77/77 [==============================] - 0s 474us/step - loss: 2.4314 - accuracy: 0.5566\n",
      "Epoch 6/50\n",
      "77/77 [==============================] - 0s 461us/step - loss: 1.6288 - accuracy: 0.6354\n",
      "Epoch 7/50\n",
      "77/77 [==============================] - 0s 513us/step - loss: 1.7149 - accuracy: 0.6027\n",
      "Epoch 8/50\n",
      "77/77 [==============================] - 0s 500us/step - loss: 1.2890 - accuracy: 0.6422\n",
      "Epoch 9/50\n",
      "77/77 [==============================] - 0s 487us/step - loss: 1.1754 - accuracy: 0.6165\n",
      "Epoch 10/50\n",
      "77/77 [==============================] - 0s 487us/step - loss: 1.0738 - accuracy: 0.5830\n",
      "Epoch 11/50\n",
      "77/77 [==============================] - 0s 500us/step - loss: 0.8964 - accuracy: 0.6133\n",
      "Epoch 12/50\n",
      "77/77 [==============================] - 0s 513us/step - loss: 0.8403 - accuracy: 0.6453\n",
      "Epoch 13/50\n",
      "77/77 [==============================] - 0s 513us/step - loss: 0.8363 - accuracy: 0.6425\n",
      "Epoch 14/50\n",
      "77/77 [==============================] - 0s 571us/step - loss: 0.7828 - accuracy: 0.6818\n",
      "Epoch 15/50\n",
      "77/77 [==============================] - 0s 605us/step - loss: 0.7629 - accuracy: 0.6358\n",
      "Epoch 16/50\n",
      "77/77 [==============================] - 0s 500us/step - loss: 0.8044 - accuracy: 0.6323\n",
      "Epoch 17/50\n",
      "77/77 [==============================] - 0s 697us/step - loss: 0.7838 - accuracy: 0.6306\n",
      "Epoch 18/50\n",
      "77/77 [==============================] - 0s 711us/step - loss: 0.7046 - accuracy: 0.6692\n",
      "Epoch 19/50\n",
      "77/77 [==============================] - 0s 605us/step - loss: 0.6841 - accuracy: 0.6945\n",
      "Epoch 20/50\n",
      "77/77 [==============================] - 0s 487us/step - loss: 0.6679 - accuracy: 0.6756\n",
      "Epoch 21/50\n",
      "77/77 [==============================] - 0s 461us/step - loss: 0.6322 - accuracy: 0.7054\n",
      "Epoch 22/50\n",
      "77/77 [==============================] - 0s 474us/step - loss: 0.6820 - accuracy: 0.6368\n",
      "Epoch 23/50\n",
      "77/77 [==============================] - 0s 474us/step - loss: 0.6612 - accuracy: 0.6751\n",
      "Epoch 24/50\n",
      "77/77 [==============================] - 0s 500us/step - loss: 0.6548 - accuracy: 0.6347\n",
      "Epoch 25/50\n",
      "77/77 [==============================] - 0s 500us/step - loss: 0.6852 - accuracy: 0.6814\n",
      "Epoch 26/50\n",
      "77/77 [==============================] - 0s 513us/step - loss: 0.6380 - accuracy: 0.6596\n",
      "Epoch 27/50\n",
      "77/77 [==============================] - 0s 500us/step - loss: 0.5816 - accuracy: 0.7038\n",
      "Epoch 28/50\n",
      "77/77 [==============================] - 0s 500us/step - loss: 0.5945 - accuracy: 0.6923\n",
      "Epoch 29/50\n",
      "77/77 [==============================] - 0s 539us/step - loss: 0.6379 - accuracy: 0.6543\n",
      "Epoch 30/50\n",
      "77/77 [==============================] - 0s 526us/step - loss: 0.6513 - accuracy: 0.6928\n",
      "Epoch 31/50\n",
      "77/77 [==============================] - 0s 500us/step - loss: 0.6153 - accuracy: 0.6877\n",
      "Epoch 32/50\n",
      "77/77 [==============================] - 0s 487us/step - loss: 0.6355 - accuracy: 0.6968\n",
      "Epoch 33/50\n",
      "77/77 [==============================] - 0s 474us/step - loss: 0.6859 - accuracy: 0.6854\n",
      "Epoch 34/50\n",
      "77/77 [==============================] - 0s 500us/step - loss: 0.5950 - accuracy: 0.6753\n",
      "Epoch 35/50\n",
      "77/77 [==============================] - 0s 487us/step - loss: 0.6110 - accuracy: 0.6948\n",
      "Epoch 36/50\n",
      "77/77 [==============================] - 0s 474us/step - loss: 0.6184 - accuracy: 0.6669\n",
      "Epoch 37/50\n",
      "77/77 [==============================] - 0s 474us/step - loss: 0.6443 - accuracy: 0.6612\n",
      "Epoch 38/50\n",
      "77/77 [==============================] - 0s 500us/step - loss: 0.6520 - accuracy: 0.6627\n",
      "Epoch 39/50\n",
      "77/77 [==============================] - 0s 553us/step - loss: 0.6136 - accuracy: 0.6981\n",
      "Epoch 40/50\n",
      "77/77 [==============================] - 0s 618us/step - loss: 0.6539 - accuracy: 0.6813\n",
      "Epoch 41/50\n",
      "77/77 [==============================] - 0s 553us/step - loss: 0.5863 - accuracy: 0.7300\n",
      "Epoch 42/50\n",
      "77/77 [==============================] - 0s 566us/step - loss: 0.5624 - accuracy: 0.7157\n",
      "Epoch 43/50\n",
      "77/77 [==============================] - 0s 526us/step - loss: 0.6063 - accuracy: 0.6855\n",
      "Epoch 44/50\n",
      "77/77 [==============================] - 0s 553us/step - loss: 0.5888 - accuracy: 0.7019\n",
      "Epoch 45/50\n",
      "77/77 [==============================] - 0s 737us/step - loss: 0.6176 - accuracy: 0.6827\n",
      "Epoch 46/50\n",
      "77/77 [==============================] - 0s 789us/step - loss: 0.5739 - accuracy: 0.7070\n",
      "Epoch 47/50\n",
      "77/77 [==============================] - 0s 605us/step - loss: 0.5845 - accuracy: 0.6909\n",
      "Epoch 48/50\n",
      "77/77 [==============================] - 0s 487us/step - loss: 0.6348 - accuracy: 0.6811\n",
      "Epoch 49/50\n",
      "77/77 [==============================] - 0s 500us/step - loss: 0.5964 - accuracy: 0.7101\n",
      "Epoch 50/50\n",
      "77/77 [==============================] - 0s 540us/step - loss: 0.5787 - accuracy: 0.7037\n"
     ]
    },
    {
     "data": {
      "text/plain": [
       "GridSearchCV(cv=3,\n",
       "             estimator=<tensorflow.python.keras.wrappers.scikit_learn.KerasClassifier object at 0x000001EC48B370A0>,\n",
       "             n_jobs=-1,\n",
       "             param_grid={'optimizer': ['SGD', 'adam', 'Adadelta', 'Adagrad']})"
      ]
     },
     "execution_count": 93,
     "metadata": {},
     "output_type": "execute_result"
    }
   ],
   "source": [
    "grid.fit(X,Y)"
   ]
  },
  {
   "cell_type": "code",
   "execution_count": 94,
   "metadata": {},
   "outputs": [
    {
     "data": {
      "text/plain": [
       "{'optimizer': 'adam'}"
      ]
     },
     "execution_count": 94,
     "metadata": {},
     "output_type": "execute_result"
    }
   ],
   "source": [
    "grid.best_params_"
   ]
  },
  {
   "cell_type": "code",
   "execution_count": null,
   "metadata": {},
   "outputs": [],
   "source": []
  },
  {
   "cell_type": "code",
   "execution_count": null,
   "metadata": {},
   "outputs": [],
   "source": []
  },
  {
   "cell_type": "code",
   "execution_count": null,
   "metadata": {},
   "outputs": [],
   "source": []
  },
  {
   "cell_type": "code",
   "execution_count": null,
   "metadata": {},
   "outputs": [],
   "source": []
  },
  {
   "cell_type": "code",
   "execution_count": null,
   "metadata": {},
   "outputs": [],
   "source": []
  },
  {
   "cell_type": "code",
   "execution_count": null,
   "metadata": {},
   "outputs": [],
   "source": []
  },
  {
   "cell_type": "code",
   "execution_count": null,
   "metadata": {},
   "outputs": [],
   "source": []
  }
 ],
 "metadata": {
  "kernelspec": {
   "display_name": "Python 3",
   "language": "python",
   "name": "python3"
  },
  "language_info": {
   "codemirror_mode": {
    "name": "ipython",
    "version": 3
   },
   "file_extension": ".py",
   "mimetype": "text/x-python",
   "name": "python",
   "nbconvert_exporter": "python",
   "pygments_lexer": "ipython3",
   "version": "3.8.8"
  }
 },
 "nbformat": 4,
 "nbformat_minor": 4
}
