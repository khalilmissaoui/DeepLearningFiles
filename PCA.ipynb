{
 "cells": [
  {
   "cell_type": "code",
   "execution_count": 5,
   "metadata": {},
   "outputs": [],
   "source": [
    "import pandas as pd"
   ]
  },
  {
   "cell_type": "code",
   "execution_count": 6,
   "metadata": {},
   "outputs": [],
   "source": [
    "fich=pd.read_csv(\"C:/Users/Malek/Desktop/4TWIN/DataMining/TP/CH3-ACP/cancer_reg.csv\",header=0,sep =',')"
   ]
  },
  {
   "cell_type": "code",
   "execution_count": 7,
   "metadata": {},
   "outputs": [
    {
     "data": {
      "text/plain": [
       "<bound method NDFrame.head of       avganncount  avgdeathsperyear  target_deathrate  incidencerate  \\\n",
       "0     1397.000000               469             164.9     489.800000   \n",
       "1      173.000000                70             161.3     411.600000   \n",
       "2      102.000000                50             174.7     349.700000   \n",
       "3      427.000000               202             194.8     430.400000   \n",
       "4       57.000000                26             144.4     350.100000   \n",
       "...           ...               ...               ...            ...   \n",
       "3042  1962.667684                15             149.6     453.549422   \n",
       "3043  1962.667684                43             150.1     453.549422   \n",
       "3044  1962.667684                46             153.9     453.549422   \n",
       "3045  1962.667684                52             175.0     453.549422   \n",
       "3046  1962.667684                48             213.6     453.549422   \n",
       "\n",
       "      medincome  popest2015  povertypercent  studypercap           binnedinc  \\\n",
       "0         61898      260131            11.2   499.748204   (61494.5, 125635]   \n",
       "1         48127       43269            18.6    23.111234  (48021.6, 51046.4]   \n",
       "2         49348       21026            14.6    47.560164  (48021.6, 51046.4]   \n",
       "3         44243       75882            17.1   342.637253    (42724.4, 45201]   \n",
       "4         49955       10321            12.5     0.000000  (48021.6, 51046.4]   \n",
       "...         ...         ...             ...          ...                 ...   \n",
       "3042      46961        6343            12.4     0.000000    (45201, 48021.6]   \n",
       "3043      48609       37118            18.8   377.175494  (48021.6, 51046.4]   \n",
       "3044      51144       34536            15.0  1968.959926  (51046.4, 54545.6]   \n",
       "3045      50745       25609            13.3     0.000000  (48021.6, 51046.4]   \n",
       "3046      41193       37030            13.9     0.000000  (40362.7, 42724.4]   \n",
       "\n",
       "      medianage  ...  pctprivatecoveragealone  pctempprivcoverage  \\\n",
       "0          39.3  ...                      NaN                41.6   \n",
       "1          33.0  ...                     53.8                43.6   \n",
       "2          45.0  ...                     43.5                34.9   \n",
       "3          42.8  ...                     40.3                35.0   \n",
       "4          48.3  ...                     43.9                35.1   \n",
       "...         ...  ...                      ...                 ...   \n",
       "3042       44.2  ...                     54.9                44.6   \n",
       "3043       30.4  ...                     53.3                48.6   \n",
       "3044       30.9  ...                     52.6                47.8   \n",
       "3045       39.0  ...                     56.3                49.6   \n",
       "3046       26.2  ...                     60.3                22.9   \n",
       "\n",
       "     pctpubliccoverage  pctpubliccoveragealone   pctwhite   pctblack  \\\n",
       "0                 32.9                    14.0  81.780529   2.594728   \n",
       "1                 31.1                    15.3  89.228509   0.969102   \n",
       "2                 42.1                    21.1  90.922190   0.739673   \n",
       "3                 45.3                    25.0  91.744686   0.782626   \n",
       "4                 44.0                    22.7  94.104024   0.270192   \n",
       "...                ...                     ...        ...        ...   \n",
       "3042              31.7                    13.2  90.280811   3.837754   \n",
       "3043              28.8                    17.7  75.706245   2.326771   \n",
       "3044              26.6                    16.8  87.961629   2.313188   \n",
       "3045              29.5                    14.0  92.905681   1.176562   \n",
       "3046              25.1                    12.6  70.098132  16.590100   \n",
       "\n",
       "      pctasian  pctotherrace  pctmarriedhouseholds  birthrate  \n",
       "0     4.821857      1.843479             52.856076   6.118831  \n",
       "1     2.246233      3.741352             45.372500   4.333096  \n",
       "2     0.465898      2.747358             54.444868   3.729488  \n",
       "3     1.161359      1.362643             51.021514   4.603841  \n",
       "4     0.665830      0.492135             54.027460   6.796657  \n",
       "...        ...           ...                   ...        ...  \n",
       "3042  0.327613      1.700468             51.063830   7.773512  \n",
       "3043  4.044920     14.130288             52.007937   8.186470  \n",
       "3044  1.316472      5.680705             55.153949   7.809192  \n",
       "3045  0.244632      2.131790             58.484232   7.582938  \n",
       "3046  3.177753      1.356457             56.040242   8.981723  \n",
       "\n",
       "[3047 rows x 33 columns]>"
      ]
     },
     "execution_count": 7,
     "metadata": {},
     "output_type": "execute_result"
    }
   ],
   "source": [
    "fich.head"
   ]
  },
  {
   "cell_type": "code",
   "execution_count": 8,
   "metadata": {},
   "outputs": [
    {
     "data": {
      "text/html": [
       "<div>\n",
       "<style scoped>\n",
       "    .dataframe tbody tr th:only-of-type {\n",
       "        vertical-align: middle;\n",
       "    }\n",
       "\n",
       "    .dataframe tbody tr th {\n",
       "        vertical-align: top;\n",
       "    }\n",
       "\n",
       "    .dataframe thead th {\n",
       "        text-align: right;\n",
       "    }\n",
       "</style>\n",
       "<table border=\"1\" class=\"dataframe\">\n",
       "  <thead>\n",
       "    <tr style=\"text-align: right;\">\n",
       "      <th></th>\n",
       "      <th>avganncount</th>\n",
       "      <th>avgdeathsperyear</th>\n",
       "      <th>target_deathrate</th>\n",
       "      <th>incidencerate</th>\n",
       "      <th>medincome</th>\n",
       "      <th>popest2015</th>\n",
       "      <th>povertypercent</th>\n",
       "      <th>studypercap</th>\n",
       "      <th>binnedinc</th>\n",
       "      <th>medianage</th>\n",
       "      <th>medianagemale</th>\n",
       "      <th>medianagefemale</th>\n",
       "      <th>geography</th>\n",
       "      <th>percentmarried</th>\n",
       "      <th>pctnohs18_24</th>\n",
       "    </tr>\n",
       "  </thead>\n",
       "  <tbody>\n",
       "    <tr>\n",
       "      <td>0</td>\n",
       "      <td>1397.0</td>\n",
       "      <td>469</td>\n",
       "      <td>164.9</td>\n",
       "      <td>489.8</td>\n",
       "      <td>61898</td>\n",
       "      <td>260131</td>\n",
       "      <td>11.2</td>\n",
       "      <td>499.748204</td>\n",
       "      <td>(61494.5, 125635]</td>\n",
       "      <td>39.3</td>\n",
       "      <td>36.9</td>\n",
       "      <td>41.7</td>\n",
       "      <td>Kitsap County, Washington</td>\n",
       "      <td>52.5</td>\n",
       "      <td>11.5</td>\n",
       "    </tr>\n",
       "    <tr>\n",
       "      <td>1</td>\n",
       "      <td>173.0</td>\n",
       "      <td>70</td>\n",
       "      <td>161.3</td>\n",
       "      <td>411.6</td>\n",
       "      <td>48127</td>\n",
       "      <td>43269</td>\n",
       "      <td>18.6</td>\n",
       "      <td>23.111234</td>\n",
       "      <td>(48021.6, 51046.4]</td>\n",
       "      <td>33.0</td>\n",
       "      <td>32.2</td>\n",
       "      <td>33.7</td>\n",
       "      <td>Kittitas County, Washington</td>\n",
       "      <td>44.5</td>\n",
       "      <td>6.1</td>\n",
       "    </tr>\n",
       "    <tr>\n",
       "      <td>2</td>\n",
       "      <td>102.0</td>\n",
       "      <td>50</td>\n",
       "      <td>174.7</td>\n",
       "      <td>349.7</td>\n",
       "      <td>49348</td>\n",
       "      <td>21026</td>\n",
       "      <td>14.6</td>\n",
       "      <td>47.560164</td>\n",
       "      <td>(48021.6, 51046.4]</td>\n",
       "      <td>45.0</td>\n",
       "      <td>44.0</td>\n",
       "      <td>45.8</td>\n",
       "      <td>Klickitat County, Washington</td>\n",
       "      <td>54.2</td>\n",
       "      <td>24.0</td>\n",
       "    </tr>\n",
       "    <tr>\n",
       "      <td>3</td>\n",
       "      <td>427.0</td>\n",
       "      <td>202</td>\n",
       "      <td>194.8</td>\n",
       "      <td>430.4</td>\n",
       "      <td>44243</td>\n",
       "      <td>75882</td>\n",
       "      <td>17.1</td>\n",
       "      <td>342.637253</td>\n",
       "      <td>(42724.4, 45201]</td>\n",
       "      <td>42.8</td>\n",
       "      <td>42.2</td>\n",
       "      <td>43.4</td>\n",
       "      <td>Lewis County, Washington</td>\n",
       "      <td>52.7</td>\n",
       "      <td>20.2</td>\n",
       "    </tr>\n",
       "    <tr>\n",
       "      <td>4</td>\n",
       "      <td>57.0</td>\n",
       "      <td>26</td>\n",
       "      <td>144.4</td>\n",
       "      <td>350.1</td>\n",
       "      <td>49955</td>\n",
       "      <td>10321</td>\n",
       "      <td>12.5</td>\n",
       "      <td>0.000000</td>\n",
       "      <td>(48021.6, 51046.4]</td>\n",
       "      <td>48.3</td>\n",
       "      <td>47.8</td>\n",
       "      <td>48.9</td>\n",
       "      <td>Lincoln County, Washington</td>\n",
       "      <td>57.8</td>\n",
       "      <td>14.9</td>\n",
       "    </tr>\n",
       "    <tr>\n",
       "      <td>5</td>\n",
       "      <td>428.0</td>\n",
       "      <td>152</td>\n",
       "      <td>176.0</td>\n",
       "      <td>505.4</td>\n",
       "      <td>52313</td>\n",
       "      <td>61023</td>\n",
       "      <td>15.6</td>\n",
       "      <td>180.259902</td>\n",
       "      <td>(51046.4, 54545.6]</td>\n",
       "      <td>45.4</td>\n",
       "      <td>43.5</td>\n",
       "      <td>48.0</td>\n",
       "      <td>Mason County, Washington</td>\n",
       "      <td>50.4</td>\n",
       "      <td>29.9</td>\n",
       "    </tr>\n",
       "    <tr>\n",
       "      <td>6</td>\n",
       "      <td>250.0</td>\n",
       "      <td>97</td>\n",
       "      <td>175.9</td>\n",
       "      <td>461.8</td>\n",
       "      <td>37782</td>\n",
       "      <td>41516</td>\n",
       "      <td>23.2</td>\n",
       "      <td>0.000000</td>\n",
       "      <td>(37413.8, 40362.7]</td>\n",
       "      <td>42.6</td>\n",
       "      <td>42.2</td>\n",
       "      <td>43.5</td>\n",
       "      <td>Okanogan County, Washington</td>\n",
       "      <td>54.1</td>\n",
       "      <td>26.1</td>\n",
       "    </tr>\n",
       "  </tbody>\n",
       "</table>\n",
       "</div>"
      ],
      "text/plain": [
       "   avganncount  avgdeathsperyear  target_deathrate  incidencerate  medincome  \\\n",
       "0       1397.0               469             164.9          489.8      61898   \n",
       "1        173.0                70             161.3          411.6      48127   \n",
       "2        102.0                50             174.7          349.7      49348   \n",
       "3        427.0               202             194.8          430.4      44243   \n",
       "4         57.0                26             144.4          350.1      49955   \n",
       "5        428.0               152             176.0          505.4      52313   \n",
       "6        250.0                97             175.9          461.8      37782   \n",
       "\n",
       "   popest2015  povertypercent  studypercap           binnedinc  medianage  \\\n",
       "0      260131            11.2   499.748204   (61494.5, 125635]       39.3   \n",
       "1       43269            18.6    23.111234  (48021.6, 51046.4]       33.0   \n",
       "2       21026            14.6    47.560164  (48021.6, 51046.4]       45.0   \n",
       "3       75882            17.1   342.637253    (42724.4, 45201]       42.8   \n",
       "4       10321            12.5     0.000000  (48021.6, 51046.4]       48.3   \n",
       "5       61023            15.6   180.259902  (51046.4, 54545.6]       45.4   \n",
       "6       41516            23.2     0.000000  (37413.8, 40362.7]       42.6   \n",
       "\n",
       "   medianagemale  medianagefemale                     geography  \\\n",
       "0           36.9             41.7     Kitsap County, Washington   \n",
       "1           32.2             33.7   Kittitas County, Washington   \n",
       "2           44.0             45.8  Klickitat County, Washington   \n",
       "3           42.2             43.4      Lewis County, Washington   \n",
       "4           47.8             48.9    Lincoln County, Washington   \n",
       "5           43.5             48.0      Mason County, Washington   \n",
       "6           42.2             43.5   Okanogan County, Washington   \n",
       "\n",
       "   percentmarried  pctnohs18_24  \n",
       "0            52.5          11.5  \n",
       "1            44.5           6.1  \n",
       "2            54.2          24.0  \n",
       "3            52.7          20.2  \n",
       "4            57.8          14.9  \n",
       "5            50.4          29.9  \n",
       "6            54.1          26.1  "
      ]
     },
     "execution_count": 8,
     "metadata": {},
     "output_type": "execute_result"
    }
   ],
   "source": [
    "fich.iloc[:7,:15]"
   ]
  },
  {
   "cell_type": "code",
   "execution_count": 9,
   "metadata": {},
   "outputs": [
    {
     "data": {
      "text/plain": [
       "(3047, 33)"
      ]
     },
     "execution_count": 9,
     "metadata": {},
     "output_type": "execute_result"
    }
   ],
   "source": [
    "fich.shape"
   ]
  },
  {
   "cell_type": "code",
   "execution_count": 10,
   "metadata": {},
   "outputs": [],
   "source": [
    "data=fich.drop(['binnedinc', 'geography'], axis=1)"
   ]
  },
  {
   "cell_type": "code",
   "execution_count": 11,
   "metadata": {},
   "outputs": [
    {
     "data": {
      "text/plain": [
       "(3047, 31)"
      ]
     },
     "execution_count": 11,
     "metadata": {},
     "output_type": "execute_result"
    }
   ],
   "source": [
    "data.shape"
   ]
  },
  {
   "cell_type": "code",
   "execution_count": 12,
   "metadata": {},
   "outputs": [
    {
     "data": {
      "text/plain": [
       "(13, 14)"
      ]
     },
     "execution_count": 12,
     "metadata": {},
     "output_type": "execute_result"
    }
   ],
   "source": [
    "data1=data.iloc[:13,:14]\n",
    "data1.shape"
   ]
  },
  {
   "cell_type": "code",
   "execution_count": 13,
   "metadata": {},
   "outputs": [
    {
     "data": {
      "text/html": [
       "<div>\n",
       "<style scoped>\n",
       "    .dataframe tbody tr th:only-of-type {\n",
       "        vertical-align: middle;\n",
       "    }\n",
       "\n",
       "    .dataframe tbody tr th {\n",
       "        vertical-align: top;\n",
       "    }\n",
       "\n",
       "    .dataframe thead th {\n",
       "        text-align: right;\n",
       "    }\n",
       "</style>\n",
       "<table border=\"1\" class=\"dataframe\">\n",
       "  <thead>\n",
       "    <tr style=\"text-align: right;\">\n",
       "      <th></th>\n",
       "      <th>avganncount</th>\n",
       "      <th>avgdeathsperyear</th>\n",
       "      <th>target_deathrate</th>\n",
       "      <th>incidencerate</th>\n",
       "      <th>medincome</th>\n",
       "      <th>popest2015</th>\n",
       "      <th>povertypercent</th>\n",
       "      <th>studypercap</th>\n",
       "      <th>medianage</th>\n",
       "      <th>medianagemale</th>\n",
       "      <th>medianagefemale</th>\n",
       "      <th>percentmarried</th>\n",
       "      <th>pctnohs18_24</th>\n",
       "      <th>pcths18_24</th>\n",
       "    </tr>\n",
       "  </thead>\n",
       "  <tbody>\n",
       "    <tr>\n",
       "      <td>0</td>\n",
       "      <td>1397.0</td>\n",
       "      <td>469</td>\n",
       "      <td>164.9</td>\n",
       "      <td>489.8</td>\n",
       "      <td>61898</td>\n",
       "      <td>260131</td>\n",
       "      <td>11.2</td>\n",
       "      <td>499.748204</td>\n",
       "      <td>39.3</td>\n",
       "      <td>36.9</td>\n",
       "      <td>41.7</td>\n",
       "      <td>52.5</td>\n",
       "      <td>11.5</td>\n",
       "      <td>39.5</td>\n",
       "    </tr>\n",
       "    <tr>\n",
       "      <td>1</td>\n",
       "      <td>173.0</td>\n",
       "      <td>70</td>\n",
       "      <td>161.3</td>\n",
       "      <td>411.6</td>\n",
       "      <td>48127</td>\n",
       "      <td>43269</td>\n",
       "      <td>18.6</td>\n",
       "      <td>23.111234</td>\n",
       "      <td>33.0</td>\n",
       "      <td>32.2</td>\n",
       "      <td>33.7</td>\n",
       "      <td>44.5</td>\n",
       "      <td>6.1</td>\n",
       "      <td>22.4</td>\n",
       "    </tr>\n",
       "  </tbody>\n",
       "</table>\n",
       "</div>"
      ],
      "text/plain": [
       "   avganncount  avgdeathsperyear  target_deathrate  incidencerate  medincome  \\\n",
       "0       1397.0               469             164.9          489.8      61898   \n",
       "1        173.0                70             161.3          411.6      48127   \n",
       "\n",
       "   popest2015  povertypercent  studypercap  medianage  medianagemale  \\\n",
       "0      260131            11.2   499.748204       39.3           36.9   \n",
       "1       43269            18.6    23.111234       33.0           32.2   \n",
       "\n",
       "   medianagefemale  percentmarried  pctnohs18_24  pcths18_24  \n",
       "0             41.7            52.5          11.5        39.5  \n",
       "1             33.7            44.5           6.1        22.4  "
      ]
     },
     "execution_count": 13,
     "metadata": {},
     "output_type": "execute_result"
    }
   ],
   "source": [
    "data1.head(2)"
   ]
  },
  {
   "cell_type": "code",
   "execution_count": 14,
   "metadata": {},
   "outputs": [
    {
     "name": "stdout",
     "output_type": "stream",
     "text": [
      "(13, 14)\n"
     ]
    }
   ],
   "source": [
    "print(data1.shape)"
   ]
  },
  {
   "cell_type": "code",
   "execution_count": 15,
   "metadata": {},
   "outputs": [],
   "source": [
    "import sklearn.preprocessing as skp\n",
    "scaler=skp.StandardScaler()\n",
    "scaler.fit(data1)\n",
    "X=scaler.fit_transform(data1)"
   ]
  },
  {
   "cell_type": "code",
   "execution_count": 16,
   "metadata": {},
   "outputs": [
    {
     "data": {
      "text/plain": [
       "array([ 0.74537686,  0.69445226, -0.33015767,  0.98599705,  1.76794647,\n",
       "        0.64498473, -1.30217495,  1.2388781 , -0.83081364, -1.04620655,\n",
       "       -0.6083585 , -0.16686079, -1.25330041,  0.48776575])"
      ]
     },
     "execution_count": 16,
     "metadata": {},
     "output_type": "execute_result"
    }
   ],
   "source": [
    "X[0,:]"
   ]
  },
  {
   "cell_type": "code",
   "execution_count": 18,
   "metadata": {},
   "outputs": [
    {
     "name": "stdout",
     "output_type": "stream",
     "text": [
      "PCA(copy=True, iterated_power='auto', n_components=2, random_state=None,\n",
      "    svd_solver='auto', tol=0.0, whiten=False)\n",
      "(13, 14)\n"
     ]
    }
   ],
   "source": [
    "from sklearn.decomposition import PCA\n",
    "#n_components=2\n",
    "pca = PCA(n_components=2)\n",
    "pca.fit(X)\n",
    "print(pca)\n",
    "print(X.shape)"
   ]
  },
  {
   "cell_type": "code",
   "execution_count": 16,
   "metadata": {},
   "outputs": [
    {
     "name": "stdout",
     "output_type": "stream",
     "text": [
      "(13, 2)\n"
     ]
    },
    {
     "data": {
      "image/png": "[encoded data removed]",
      "text/plain": [
       "<Figure size 432x288 with 1 Axes>"
      ]
     },
     "metadata": {
      "needs_background": "light"
     },
     "output_type": "display_data"
    }
   ],
   "source": [
    "import matplotlib.pyplot as plt\n",
    "X_new = pca.fit_transform(X)\n",
    "print(X_new.shape)\n",
    "plt.scatter(X_new[:, 0], X_new[:, 1], alpha=0.5)\n",
    "#plt.scatter(X[:, 2], X[:, 3], alpha=0.8)\n",
    "plt.axis('equal');\n",
    "plt.show()"
   ]
  },
  {
   "cell_type": "code",
   "execution_count": 17,
   "metadata": {},
   "outputs": [
    {
     "data": {
      "text/plain": [
       "2"
      ]
     },
     "execution_count": 17,
     "metadata": {},
     "output_type": "execute_result"
    }
   ],
   "source": [
    "pca.n_components_"
   ]
  },
  {
   "cell_type": "code",
   "execution_count": 18,
   "metadata": {},
   "outputs": [
    {
     "data": {
      "text/plain": [
       "array([6.89921119, 2.84099174])"
      ]
     },
     "execution_count": 18,
     "metadata": {},
     "output_type": "execute_result"
    }
   ],
   "source": [
    "pca.explained_variance_"
   ]
  },
  {
   "cell_type": "markdown",
   "metadata": {},
   "source": [
    "explained_variance_ratio_:Percentage of variance explained by each of the selected components"
   ]
  },
  {
   "cell_type": "code",
   "execution_count": 19,
   "metadata": {},
   "outputs": [
    {
     "data": {
      "text/plain": [
       "array([0.45489305, 0.18731814])"
      ]
     },
     "execution_count": 19,
     "metadata": {},
     "output_type": "execute_result"
    }
   ],
   "source": [
    "pca.explained_variance_ratio_"
   ]
  },
  {
   "cell_type": "markdown",
   "metadata": {},
   "source": [
    "singular_values_:are the square roots of the eigenvalues "
   ]
  },
  {
   "cell_type": "code",
   "execution_count": 20,
   "metadata": {},
   "outputs": [
    {
     "data": {
      "text/plain": [
       "array([9.09893039, 5.83882701])"
      ]
     },
     "execution_count": 20,
     "metadata": {},
     "output_type": "execute_result"
    }
   ],
   "source": [
    "pca.singular_values_"
   ]
  },
  {
   "cell_type": "code",
   "execution_count": 20,
   "metadata": {},
   "outputs": [
    {
     "name": "stdout",
     "output_type": "stream",
     "text": [
      "13\n"
     ]
    },
    {
     "data": {
      "image/png": "[encoded data removed]",
      "text/plain": [
       "<Figure size 432x288 with 1 Axes>"
      ]
     },
     "metadata": {
      "needs_background": "light"
     },
     "output_type": "display_data"
    }
   ],
   "source": [
    "import matplotlib.pyplot as plt\n",
    "import numpy as np\n",
    "#Fitting the PCA algorithm with our Data\n",
    "pca = PCA().fit(X)\n",
    "print(len(pca.explained_variance_ratio_))\n",
    "#Plotting the Cumulative Summation of the Explained Variance\n",
    "plt.figure()\n",
    "XX=[1,2,3,4,5,6,7,8,9,10,11,12,13]\n",
    "plt.plot(XX,np.cumsum(pca.explained_variance_ratio_))\n",
    "plt.xlabel('Nombre de Composants')\n",
    "plt.ylabel('Variance (%)') #for each component\n",
    "plt.title('Variance expliquée du jeu de données Pulsar')\n",
    "plt.show()"
   ]
  },
  {
   "cell_type": "markdown",
   "metadata": {},
   "source": [
    "les étapes de réalisation de l'acp"
   ]
  },
  {
   "cell_type": "code",
   "execution_count": 22,
   "metadata": {},
   "outputs": [],
   "source": [
    "#data_mean = np.mean(X)"
   ]
  },
  {
   "cell_type": "code",
   "execution_count": 23,
   "metadata": {},
   "outputs": [
    {
     "data": {
      "text/plain": [
       "(13, 14)"
      ]
     },
     "execution_count": 23,
     "metadata": {},
     "output_type": "execute_result"
    }
   ],
   "source": [
    "X.shape"
   ]
  },
  {
   "cell_type": "code",
   "execution_count": 24,
   "metadata": {},
   "outputs": [],
   "source": [
    "data_center = X "
   ]
  },
  {
   "cell_type": "code",
   "execution_count": 25,
   "metadata": {},
   "outputs": [
    {
     "data": {
      "text/plain": [
       "(14, 13)"
      ]
     },
     "execution_count": 25,
     "metadata": {},
     "output_type": "execute_result"
    }
   ],
   "source": [
    "data_center.T.shape"
   ]
  },
  {
   "cell_type": "code",
   "execution_count": 26,
   "metadata": {},
   "outputs": [],
   "source": [
    "cov_matrix = np.cov(data_center.T)"
   ]
  },
  {
   "cell_type": "code",
   "execution_count": 27,
   "metadata": {},
   "outputs": [
    {
     "data": {
      "text/plain": [
       "(14, 14)"
      ]
     },
     "execution_count": 27,
     "metadata": {},
     "output_type": "execute_result"
    }
   ],
   "source": [
    "cov_matrix.shape"
   ]
  },
  {
   "cell_type": "code",
   "execution_count": 28,
   "metadata": {},
   "outputs": [],
   "source": [
    "eigenval, eigenvec = np.linalg.eig(cov_matrix)"
   ]
  },
  {
   "cell_type": "code",
   "execution_count": 29,
   "metadata": {},
   "outputs": [
    {
     "name": "stdout",
     "output_type": "stream",
     "text": [
      "(14,)\n"
     ]
    }
   ],
   "source": [
    "print(eigenval.shape)"
   ]
  },
  {
   "cell_type": "code",
   "execution_count": 30,
   "metadata": {},
   "outputs": [
    {
     "name": "stdout",
     "output_type": "stream",
     "text": [
      "(14, 14)\n"
     ]
    }
   ],
   "source": [
    "print(eigenvec.shape)"
   ]
  },
  {
   "cell_type": "code",
   "execution_count": 35,
   "metadata": {},
   "outputs": [
    {
     "ename": "NameError",
     "evalue": "name 'YY' is not defined",
     "output_type": "error",
     "traceback": [
      "\u001b[1;31m---------------------------------------------------------------------------\u001b[0m",
      "\u001b[1;31mNameError\u001b[0m                                 Traceback (most recent call last)",
      "\u001b[1;32m<ipython-input-35-88d963ac0d23>\u001b[0m in \u001b[0;36m<module>\u001b[1;34m\u001b[0m\n\u001b[0;32m      3\u001b[0m \u001b[0mplt\u001b[0m\u001b[1;33m.\u001b[0m\u001b[0mfigure\u001b[0m\u001b[1;33m(\u001b[0m\u001b[1;33m)\u001b[0m\u001b[1;33m\u001b[0m\u001b[1;33m\u001b[0m\u001b[0m\n\u001b[0;32m      4\u001b[0m \u001b[0mXX\u001b[0m\u001b[1;33m.\u001b[0m\u001b[0mappend\u001b[0m\u001b[1;33m(\u001b[0m\u001b[1;36m14\u001b[0m\u001b[1;33m)\u001b[0m\u001b[1;33m\u001b[0m\u001b[1;33m\u001b[0m\u001b[0m\n\u001b[1;32m----> 5\u001b[1;33m \u001b[0mplt\u001b[0m\u001b[1;33m.\u001b[0m\u001b[0mplot\u001b[0m\u001b[1;33m(\u001b[0m\u001b[0mYY\u001b[0m\u001b[1;33m,\u001b[0m \u001b[0mnp\u001b[0m\u001b[1;33m.\u001b[0m\u001b[0mcumsum\u001b[0m\u001b[1;33m(\u001b[0m\u001b[0msignificance\u001b[0m\u001b[1;33m)\u001b[0m\u001b[1;33m)\u001b[0m\u001b[1;33m\u001b[0m\u001b[1;33m\u001b[0m\u001b[0m\n\u001b[0m\u001b[0;32m      6\u001b[0m \u001b[0mplt\u001b[0m\u001b[1;33m.\u001b[0m\u001b[0mxlabel\u001b[0m\u001b[1;33m(\u001b[0m\u001b[1;34m'Number of Components'\u001b[0m\u001b[1;33m)\u001b[0m\u001b[1;33m\u001b[0m\u001b[1;33m\u001b[0m\u001b[0m\n\u001b[0;32m      7\u001b[0m \u001b[0mplt\u001b[0m\u001b[1;33m.\u001b[0m\u001b[0mylabel\u001b[0m\u001b[1;33m(\u001b[0m\u001b[1;34m'Variance (%)'\u001b[0m\u001b[1;33m)\u001b[0m \u001b[1;31m#for each component\u001b[0m\u001b[1;33m\u001b[0m\u001b[1;33m\u001b[0m\u001b[0m\n",
      "\u001b[1;31mNameError\u001b[0m: name 'YY' is not defined"
     ]
    },
    {
     "data": {
      "text/plain": [
       "<Figure size 432x288 with 0 Axes>"
      ]
     },
     "metadata": {},
     "output_type": "display_data"
    }
   ],
   "source": [
    "significance = [np.abs(i)*100/14 for i in eigenval]\n",
    "#Plotting the Cumulative Summation of the Explained Variance\n",
    "plt.figure()\n",
    "XX.append(14)\n",
    "plt.plot(YY, np.cumsum(significance))\n",
    "plt.xlabel('Number of Components')\n",
    "plt.ylabel('Variance (%)') #for each component\n",
    "plt.title('Pulsar Dataset Explained Variance')\n",
    "plt.show()"
   ]
  },
  {
   "cell_type": "code",
   "execution_count": 36,
   "metadata": {},
   "outputs": [],
   "source": [
    "X1=np.matmul(X,eigenvec[:,:2])"
   ]
  },
  {
   "cell_type": "code",
   "execution_count": 37,
   "metadata": {},
   "outputs": [
    {
     "name": "stdout",
     "output_type": "stream",
     "text": [
      "[[ 2.89881634  1.57844516]\n",
      " [ 2.52312324 -2.98610752]\n",
      " [-1.2546327   0.07141027]\n",
      " [ 0.0203784  -0.96709809]\n",
      " [-2.11052472  2.09347053]\n",
      " [-0.05745116 -0.37938465]\n",
      " [-1.11369017 -2.09908713]\n",
      " [-2.5315013  -0.67405984]\n",
      " [-2.51120547 -1.29616492]\n",
      " [ 6.18462092  1.36608654]\n",
      " [-2.53855505  2.90032646]\n",
      " [ 1.51416928 -0.20460217]\n",
      " [-1.0235476   0.59676536]]\n"
     ]
    }
   ],
   "source": [
    "print(X1)"
   ]
  },
  {
   "cell_type": "code",
   "execution_count": 38,
   "metadata": {},
   "outputs": [
    {
     "data": {
      "image/png": "[encoded data removed]",
      "text/plain": [
       "<Figure size 432x288 with 1 Axes>"
      ]
     },
     "metadata": {
      "needs_background": "light"
     },
     "output_type": "display_data"
    }
   ],
   "source": [
    "plt.scatter(X1[:, 0], X1[:, 1])\n",
    "plt.title('Transformed Data')\n",
    "plt.axis('equal')\n",
    "plt.show()"
   ]
  },
  {
   "cell_type": "markdown",
   "metadata": {},
   "source": [
    "contribution de chaque individu à la formation de l'axe\n",
    "project_sur_composante_k_de_i^2/n*lamda_K"
   ]
  },
  {
   "cell_type": "markdown",
   "metadata": {},
   "source": [
    "![title](formule_pca1.png)"
   ]
  },
  {
   "cell_type": "code",
   "execution_count": 41,
   "metadata": {},
   "outputs": [
    {
     "name": "stdout",
     "output_type": "stream",
     "text": [
      "                          CTR_1                        CTR_2\n",
      "0      (0.09369115874996246-0j)     (0.06745989665833436-0j)\n",
      "1      (0.07097969593498019-0j)      (0.2414335164127048+0j)\n",
      "2     (0.017550537143911246+0j)  (0.00013807276875642808-0j)\n",
      "3    (4.630172547824923e-06-0j)    (0.025323732982450484+0j)\n",
      "4      (0.04966358837411055+0j)     (0.11866438185205995-0j)\n",
      "5   (3.6800590276037616e-05+0j)   (0.0038971416905981496+0j)\n",
      "6     (0.013828847289819906+0j)      (0.1193019680311916+0j)\n",
      "7      (0.07145185655328452+0j)    (0.012302222772633199+0j)\n",
      "8       (0.0703107461672563+0j)    (0.045489085055491194+0j)\n",
      "9       (0.4264649846050536-0j)    (0.050529279134164475-0j)\n",
      "10     (0.07185059699261637+0j)      (0.2277615689781384-0j)\n",
      "11     (0.02556266149556598-0j)    (0.001133462499468147+0j)\n",
      "12    (0.011680819007538585+0j)    (0.009642594240931357-0j)\n"
     ]
    }
   ],
   "source": [
    "ctr = X1**2\n",
    "for j in range(2):\n",
    "    ctr[:,j] = ctr[:,j]/(13*eigenval[j])\n",
    "new_pd=pd.DataFrame({'CTR_1':ctr[:,0],'CTR_2':ctr[:,1]})\n",
    "print(new_pd)"
   ]
  },
  {
   "cell_type": "markdown",
   "metadata": {},
   "source": [
    "la projection des variables sur les axes est comme suis: matrice Vecteur propre x racine(matrice des vecteurs propres diagonale))"
   ]
  },
  {
   "cell_type": "code",
   "execution_count": 42,
   "metadata": {},
   "outputs": [
    {
     "name": "stdout",
     "output_type": "stream",
     "text": [
      "(14,)\n",
      "(14, 14)\n"
     ]
    },
    {
     "name": "stderr",
     "output_type": "stream",
     "text": [
      "C:\\Users\\esprit\\Anaconda3_5.0.1\\lib\\site-packages\\ipykernel_launcher.py:9: ComplexWarning: Casting complex values to real discards the imaginary part\n",
      "  if __name__ == '__main__':\n"
     ]
    }
   ],
   "source": [
    "#préparation de la projection des variables et la création du cercle de corrélation\n",
    "#corrélation des variables avec les axes\n",
    "sqrt_eigval = np.sqrt(eigenval)\n",
    "print(sqrt_eigval.shape)\n",
    "corvar = np.zeros((14,14))\n",
    "for k in range(14):\n",
    "    #print(pca.components_[k,:].shape)\n",
    "    #p1=np.reshape(pca.components_[k,:],(14,1))\n",
    "    corvar[:,k] = eigenvec[:,k] * sqrt_eigval[k]\n",
    "    \n",
    "\n",
    "#afficher la matrice des corrélations variables x facteurs\n",
    "print(corvar.shape)\n"
   ]
  },
  {
   "cell_type": "code",
   "execution_count": 43,
   "metadata": {},
   "outputs": [
    {
     "name": "stdout",
     "output_type": "stream",
     "text": [
      "                  id    proj_1    proj_2\n",
      "0        avganncount -0.878199 -0.292829\n",
      "1   avgdeathsperyear -0.878951 -0.276197\n",
      "2   target_deathrate -0.125373  0.589961\n",
      "3      incidencerate -0.612290  0.102697\n",
      "4          medincome -0.638154 -0.714465\n",
      "5         popest2015 -0.871565 -0.286323\n",
      "6     povertypercent  0.289473  0.867921\n",
      "7        studypercap -0.661396 -0.141708\n",
      "8          medianage  0.904007 -0.393074\n",
      "9      medianagemale  0.919486 -0.369962\n",
      "10   medianagefemale  0.876700 -0.411414\n",
      "11    percentmarried  0.686863 -0.570573\n",
      "12      pctnohs18_24  0.540945  0.239293\n",
      "13        pcths18_24  0.284624 -0.333308\n"
     ]
    }
   ],
   "source": [
    "print(pd.DataFrame({'id':data1.columns,'proj_1':corvar[:,0],'proj_2':corvar[:,1]}))"
   ]
  },
  {
   "cell_type": "code",
   "execution_count": 47,
   "metadata": {},
   "outputs": [
    {
     "data": {
      "image/png": "[encoded data removed]",
      "text/plain": [
       "<matplotlib.figure.Figure at 0x1888b26ef60>"
      ]
     },
     "metadata": {},
     "output_type": "display_data"
    }
   ],
   "source": [
    "fig, axes = plt.subplots(figsize=(8,8))\n",
    "axes.set_xlim(-1,1)\n",
    "axes.set_ylim(-1,1)\n",
    "#affichage des étiquettes (noms des variables)\n",
    "for j in range(14):\n",
    "    plt.annotate(data1.columns[j],(corvar[j,0],corvar[j,1]))\n",
    "\n",
    "#ajouter les axes\n",
    "plt.plot([-1,1],[0,0],color='silver',linestyle='-',linewidth=1)\n",
    "plt.plot([0,0],[-1,1],color='silver',linestyle='-',linewidth=1)\n",
    "plt.show()"
   ]
  }
 ],
 "metadata": {
  "kernelspec": {
   "display_name": "Python 3",
   "language": "python",
   "name": "python3"
  },
  "language_info": {
   "codemirror_mode": {
    "name": "ipython",
    "version": 3
   },
   "file_extension": ".py",
   "mimetype": "text/x-python",
   "name": "python",
   "nbconvert_exporter": "python",
   "pygments_lexer": "ipython3",
   "version": "3.8.8"
  }
 },
 "nbformat": 4,
 "nbformat_minor": 4
}
